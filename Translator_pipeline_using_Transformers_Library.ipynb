{
  "nbformat": 4,
  "nbformat_minor": 0,
  "metadata": {
    "colab": {
      "provenance": [],
      "machine_shape": "hm",
      "gpuType": "V5E1",
      "authorship_tag": "ABX9TyMw6XsIywZ86Ddospo9xgIr",
      "include_colab_link": true
    },
    "kernelspec": {
      "name": "python3",
      "display_name": "Python 3"
    },
    "language_info": {
      "name": "python"
    },
    "accelerator": "TPU"
  },
  "cells": [
    {
      "cell_type": "markdown",
      "metadata": {
        "id": "view-in-github",
        "colab_type": "text"
      },
      "source": [
        "<a href=\"https://colab.research.google.com/github/lari98/LLM_Model/blob/main/Translator_pipeline_using_Transformers_Library.ipynb\" target=\"_parent\"><img src=\"https://colab.research.google.com/assets/colab-badge.svg\" alt=\"Open In Colab\"/></a>"
      ]
    },
    {
      "cell_type": "code",
      "execution_count": 14,
      "metadata": {
        "colab": {
          "base_uri": "https://localhost:8080/"
        },
        "id": "yOzWOQEmoERA",
        "outputId": "2cf1811e-00d8-4c73-fa5d-ffa26a179ed8"
      },
      "outputs": [
        {
          "output_type": "execute_result",
          "data": {
            "text/plain": [
              "90"
            ]
          },
          "metadata": {},
          "execution_count": 14
        }
      ],
      "source": [
        "from transformers.utils import logging\n",
        "logging.set_verbosity_error()\n",
        "#garbage collector\n",
        "import gc\n",
        "#reclaiming memory occupied by objects that are no longer in use by the program\n",
        "gc.collect()"
      ]
    },
    {
      "cell_type": "code",
      "source": [
        "from transformers import pipeline\n",
        "import torch"
      ],
      "metadata": {
        "id": "JMTYgy5CoMOP"
      },
      "execution_count": 15,
      "outputs": []
    },
    {
      "cell_type": "code",
      "source": [
        "#translator pipeline\n",
        "translator = pipeline(task=\"translation\",\n",
        "                      model=\"facebook/nllb-200-distilled-600M\",\n",
        "                      torch_dtype=torch.bfloat16)"
      ],
      "metadata": {
        "id": "GJeMmFt0oPnW"
      },
      "execution_count": 16,
      "outputs": []
    },
    {
      "cell_type": "code",
      "source": [
        "print(f\"translator pipeline: {translator} memory address\")\n"
      ],
      "metadata": {
        "id": "xTHyEPxRoXai",
        "outputId": "445e01d1-614f-4bee-e610-9199d7df8ea6",
        "colab": {
          "base_uri": "https://localhost:8080/"
        }
      },
      "execution_count": 19,
      "outputs": [
        {
          "output_type": "stream",
          "name": "stdout",
          "text": [
            "translator pipeline: <transformers.pipelines.text2text_generation.TranslationPipeline object at 0x7b357512b650> memory address\n"
          ]
        }
      ]
    },
    {
      "cell_type": "code",
      "source": [
        "text = \"\"\"\n",
        "\n",
        "Embark on thrilling adventures and explore breathtaking destinations with our exclusive travel packages. Immerse yourself in diverse cultures, savor unique cuisines, and create unforgettable memories across the world.\n",
        "\n",
        "\"\"\""
      ],
      "metadata": {
        "id": "xYqQYZShozqm"
      },
      "execution_count": 27,
      "outputs": []
    },
    {
      "cell_type": "code",
      "source": [
        "print(f\"text:\\n {text}\")\n"
      ],
      "metadata": {
        "id": "JGcPIW-2o2Ia",
        "outputId": "d3c3284c-3a28-46c9-ac93-2837724720b1",
        "colab": {
          "base_uri": "https://localhost:8080/"
        }
      },
      "execution_count": 28,
      "outputs": [
        {
          "output_type": "stream",
          "name": "stdout",
          "text": [
            "text:\n",
            " \n",
            "\n",
            "Embark on thrilling adventures and explore breathtaking destinations with our exclusive travel packages. Immerse yourself in diverse cultures, savor unique cuisines, and create unforgettable memories across the world.\n",
            "\n",
            "\n"
          ]
        }
      ]
    },
    {
      "cell_type": "code",
      "source": [
        "#translation\n",
        "text_translate = translator(text,\n",
        "                           src_lang = 'eng_Latn',\n",
        "                           tgt_lang = 'deu_Latn')"
      ],
      "metadata": {
        "id": "p0xjQmfHo5UO"
      },
      "execution_count": 29,
      "outputs": []
    },
    {
      "cell_type": "code",
      "source": [
        "print(f\"text_translate from English to German:\\n\\n {text_translate}\")\n"
      ],
      "metadata": {
        "id": "Bh3lQVHFo7l-",
        "outputId": "4ba02ac0-d03f-45f3-95f3-b1c3288699a0",
        "colab": {
          "base_uri": "https://localhost:8080/"
        }
      },
      "execution_count": 30,
      "outputs": [
        {
          "output_type": "stream",
          "name": "stdout",
          "text": [
            "text_translate from English to German:\n",
            "\n",
            " [{'translation_text': 'Begeben Sie sich auf spannende Abenteuer und erkunden Sie mit unseren exklusiven Reisepaketen atemberaubende Ziele. Tauchen Sie in verschiedene Kulturen ein, genießen Sie einzigartige Küchen und erstellen Sie unvergessliche Erinnerungen auf der ganzen Welt. '}]\n"
          ]
        }
      ]
    },
    {
      "cell_type": "code",
      "source": [],
      "metadata": {
        "id": "5ZYCVuB6pDvy"
      },
      "execution_count": null,
      "outputs": []
    }
  ]
}